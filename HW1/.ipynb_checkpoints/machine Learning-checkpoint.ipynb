{
 "cells": [
  {
   "cell_type": "markdown",
   "id": "a6e0de9498811d44",
   "metadata": {},
   "source": [
    "# Assignment 01 (Due: 12th Oct.)"
   ]
  },
  {
   "cell_type": "code",
   "execution_count": 2,
   "id": "15bde0a1cc9aca88",
   "metadata": {
    "ExecuteTime": {
     "end_time": "2023-10-12T18:38:38.009950Z",
     "start_time": "2023-10-12T18:38:35.144791Z"
    }
   },
   "outputs": [
    {
     "name": "stdout",
     "output_type": "stream",
     "text": [
      "1.10.1\n",
      "1.4.4\n",
      "1.26.0\n"
     ]
    }
   ],
   "source": [
    "import random\n",
    "import sympy as sp \n",
    "import pandas as pd\n",
    "import matplotlib.pyplot as plt\n",
    "import numpy as np\n",
    "\n",
    "print(sp.__version__)\n",
    "print(pd.__version__)\n",
    "print(np.__version__)\n",
    "\n",
    "#기본 모듈"
   ]
  },
  {
   "cell_type": "markdown",
   "id": "245fa471f33611a4",
   "metadata": {},
   "source": [
    "## Task1. \n",
    "Model : $$ y = ax + b$$\n",
    "Approach : Gradient Descent"
   ]
  },
  {
   "cell_type": "code",
   "execution_count": 3,
   "id": "d1f34f22e4776f07",
   "metadata": {
    "ExecuteTime": {
     "end_time": "2023-10-12T18:38:38.009950Z",
     "start_time": "2023-10-12T18:38:36.575928200Z"
    }
   },
   "outputs": [
    {
     "data": {
      "text/html": [
       "<div>\n",
       "<style scoped>\n",
       "    .dataframe tbody tr th:only-of-type {\n",
       "        vertical-align: middle;\n",
       "    }\n",
       "\n",
       "    .dataframe tbody tr th {\n",
       "        vertical-align: top;\n",
       "    }\n",
       "\n",
       "    .dataframe thead th {\n",
       "        text-align: right;\n",
       "    }\n",
       "</style>\n",
       "<table border=\"1\" class=\"dataframe\">\n",
       "  <thead>\n",
       "    <tr style=\"text-align: right;\">\n",
       "      <th></th>\n",
       "      <th>x</th>\n",
       "      <th>y</th>\n",
       "    </tr>\n",
       "  </thead>\n",
       "  <tbody>\n",
       "    <tr>\n",
       "      <th>0</th>\n",
       "      <td>-1.572851</td>\n",
       "      <td>2.927733</td>\n",
       "    </tr>\n",
       "    <tr>\n",
       "      <th>1</th>\n",
       "      <td>-2.424197</td>\n",
       "      <td>25.341094</td>\n",
       "    </tr>\n",
       "    <tr>\n",
       "      <th>2</th>\n",
       "      <td>0.402431</td>\n",
       "      <td>-8.935209</td>\n",
       "    </tr>\n",
       "    <tr>\n",
       "      <th>3</th>\n",
       "      <td>-1.648521</td>\n",
       "      <td>4.257155</td>\n",
       "    </tr>\n",
       "    <tr>\n",
       "      <th>4</th>\n",
       "      <td>-1.899214</td>\n",
       "      <td>9.499411</td>\n",
       "    </tr>\n",
       "    <tr>\n",
       "      <th>...</th>\n",
       "      <td>...</td>\n",
       "      <td>...</td>\n",
       "    </tr>\n",
       "    <tr>\n",
       "      <th>995</th>\n",
       "      <td>-0.388337</td>\n",
       "      <td>-7.106198</td>\n",
       "    </tr>\n",
       "    <tr>\n",
       "      <th>996</th>\n",
       "      <td>-1.474044</td>\n",
       "      <td>1.353707</td>\n",
       "    </tr>\n",
       "    <tr>\n",
       "      <th>997</th>\n",
       "      <td>-1.799926</td>\n",
       "      <td>7.262406</td>\n",
       "    </tr>\n",
       "    <tr>\n",
       "      <th>998</th>\n",
       "      <td>-1.639442</td>\n",
       "      <td>4.091766</td>\n",
       "    </tr>\n",
       "    <tr>\n",
       "      <th>999</th>\n",
       "      <td>0.675706</td>\n",
       "      <td>-9.968438</td>\n",
       "    </tr>\n",
       "  </tbody>\n",
       "</table>\n",
       "<p>1000 rows × 2 columns</p>\n",
       "</div>"
      ],
      "text/plain": [
       "            x          y\n",
       "0   -1.572851   2.927733\n",
       "1   -2.424197  25.341094\n",
       "2    0.402431  -8.935209\n",
       "3   -1.648521   4.257155\n",
       "4   -1.899214   9.499411\n",
       "..        ...        ...\n",
       "995 -0.388337  -7.106198\n",
       "996 -1.474044   1.353707\n",
       "997 -1.799926   7.262406\n",
       "998 -1.639442   4.091766\n",
       "999  0.675706  -9.968438\n",
       "\n",
       "[1000 rows x 2 columns]"
      ]
     },
     "execution_count": 3,
     "metadata": {},
     "output_type": "execute_result"
    }
   ],
   "source": [
    "data = pd.read_csv(\"data_hw1.csv\", header=0)\n",
    "data"
   ]
  },
  {
   "cell_type": "markdown",
   "id": "89e6af06811ae848",
   "metadata": {},
   "source": [
    "# Check the Data "
   ]
  },
  {
   "cell_type": "code",
   "execution_count": 4,
   "id": "e7b4222715c396b4",
   "metadata": {
    "ExecuteTime": {
     "end_time": "2023-10-12T18:38:38.010950700Z",
     "start_time": "2023-10-12T18:38:36.607459400Z"
    }
   },
   "outputs": [
    {
     "data": {
      "text/plain": [
       "<matplotlib.collections.PathCollection at 0x2a4860359d0>"
      ]
     },
     "execution_count": 4,
     "metadata": {},
     "output_type": "execute_result"
    },
    {
     "data": {
      "image/png": "[encoded data removed]",
      "text/plain": [
       "<Figure size 640x480 with 1 Axes>"
      ]
     },
     "metadata": {},
     "output_type": "display_data"
    }
   ],
   "source": [
    "plt.scatter(data['x'], data['y'], marker='o')"
   ]
  },
  {
   "cell_type": "markdown",
   "id": "7b7d8b073c90a144",
   "metadata": {},
   "source": [
    "# Model Definition\n",
    "core operation"
   ]
  },
  {
   "cell_type": "markdown",
   "id": "9ffec0f1b8223038",
   "metadata": {},
   "source": []
  },
  {
   "cell_type": "code",
   "execution_count": 5,
   "id": "de67a2d263981e56",
   "metadata": {
    "ExecuteTime": {
     "end_time": "2023-10-12T18:38:38.010950700Z",
     "start_time": "2023-10-12T18:38:36.733240600Z"
    }
   },
   "outputs": [],
   "source": [
    "def get_gradient_of_param0(): \n",
    "    pass "
   ]
  },
  {
   "cell_type": "markdown",
   "id": "98afbd4bfcad3b58",
   "metadata": {},
   "source": [
    "GPT-Generated Code"
   ]
  },
  {
   "cell_type": "code",
   "execution_count": 6,
   "id": "25eb26df8931b3fb",
   "metadata": {
    "ExecuteTime": {
     "end_time": "2023-10-12T18:38:38.010950700Z",
     "start_time": "2023-10-12T18:38:36.752106Z"
    }
   },
   "outputs": [],
   "source": [
    "def compute_gradient(data, a, b):\n",
    "    # 기울기 초기화\n",
    "    gradient_a = 0\n",
    "    gradient_b = 0\n",
    "    m = len(data)\n",
    "\n",
    "    # 모든 데이터 포인트에 대해 경사를 계산\n",
    "    for index, row in data.iterrows():\n",
    "        x = row['x']\n",
    "        y = row['y']\n",
    "\n",
    "        # 예측 값과 실제 값의 차이\n",
    "        y_pred = a*x + b\n",
    "\n",
    "        # a, b에 대한 비용 함수의 기울기\n",
    "        gradient_a += -2 * x * (y - y_pred)\n",
    "        gradient_b += -2 * (y - y_pred)\n",
    "\n",
    "    # 평균 기울기 계산\n",
    "    gradient_a /= m\n",
    "    gradient_b /= m\n",
    "\n",
    "    return gradient_a, gradient_b\n",
    "\n",
    "def gradient_descent(data, learning_rate, num_iterations):\n",
    "    a = np.random.randn()\n",
    "    b = np.random.randn()\n",
    "\n",
    "    for i in range(num_iterations):\n",
    "        gradient_a, gradient_b = compute_gradient(data, a, b)\n",
    "\n",
    "        # 파라미터 업데이트\n",
    "        a -= learning_rate * gradient_a\n",
    "        b -= learning_rate * gradient_b\n",
    "\n",
    "        # (선택사항) 비용 및 파라미터 출력\n",
    "        if i % 100 == 0:\n",
    "            y_pred = data['x'].apply(lambda x: a*x + b)\n",
    "            cost = ((data['y'] - y_pred)**2).mean()\n",
    "            print(f\"Iteration {i}, Cost: {cost}, a: {a}, b: {b}\")\n",
    "\n",
    "    return a, b\n"
   ]
  },
  {
   "cell_type": "markdown",
   "id": "2e084a6a1e4ec654",
   "metadata": {},
   "source": [
    "## Hand-Written Coded\n",
    "- 쉽게 수렴이 되지 않는 문제점이 발생. \n",
    "- Learning Rate 관련하여, 효과적으로 수렴할 수 있도록 조정이 필요함"
   ]
  },
  {
   "cell_type": "code",
   "execution_count": 7,
   "id": "affe41fc78f772c0",
   "metadata": {
    "ExecuteTime": {
     "end_time": "2023-10-12T18:38:38.010950700Z",
     "start_time": "2023-10-12T18:38:36.767612900Z"
    }
   },
   "outputs": [],
   "source": [
    "def gradient_Descent_core(dataSet, learning_rate, max_iters=500, tolerance=0.02):\n",
    "    param0 = random.randint(-10, 10)\n",
    "    param1 = random.randint(-10, 10)\n",
    "\n",
    "    for _ in range(max_iters):\n",
    "        summationRes0 = 0\n",
    "        summationRes1 = 0\n",
    "        cost_function_summation = 0\n",
    "        for index, row in dataSet.iterrows():\n",
    "            oneDataRow_computation_GD = param0 * row['x'] + param1 - row['y']\n",
    "            cost_function_summation += oneDataRow_computation_GD**2\n",
    "            summationRes0 += oneDataRow_computation_GD\n",
    "            summationRes1 += oneDataRow_computation_GD * row['x']\n",
    "\n",
    "        gradient_result_0 = summationRes0 / dataSet.shape[0]\n",
    "        gradient_result_1 = summationRes1 / dataSet.shape[0]\n",
    "        cost = cost_function_summation / (2 * dataSet.shape[0])\n",
    "\n",
    "        # Parameter update\n",
    "        tempParam0 = param0 - gradient_result_0 * learning_rate\n",
    "        tempParam1 = param1 - gradient_result_1 * learning_rate\n",
    "\n",
    "        # Convergence check\n",
    "        if abs(tempParam0 - param0) < tolerance and abs(tempParam1 - param1) < tolerance:\n",
    "            return param0, param1, cost\n",
    "\n",
    "        param0 = tempParam0\n",
    "        param1 = tempParam1\n",
    "    return param0, param1, cost  # Return parameters even if convergence condition is not met"
   ]
  },
  {
   "cell_type": "markdown",
   "id": "b3b5db5ffb989733",
   "metadata": {},
   "source": []
  },
  {
   "cell_type": "code",
   "execution_count": 8,
   "id": "1aa0362a3139d94f",
   "metadata": {
    "ExecuteTime": {
     "end_time": "2023-10-12T18:38:38.010950700Z",
     "start_time": "2023-10-12T18:38:36.783640600Z"
    }
   },
   "outputs": [],
   "source": [
    "def gradient_Descent_core_with_Adam(dataSet, learning_rate, max_iters=500, tolerance=0.02):\n",
    "    param0 = random.randint(-10, 10)\n",
    "    param1 = random.randint(-10, 10)\n",
    "    param_moment_0, param_velocity_0 = 0,0\n",
    "    param_moment_1, param_velocity_1 = 0,0\n",
    "    beta1, beta2 = 0.9, 0.989\n",
    "    t = 0\n",
    "    for _ in range(max_iters):\n",
    "        gradient0 = 0\n",
    "        gradient1 = 0\n",
    "        cost_function_summation = 0\n",
    "        t+=1\n",
    "        for index, row in dataSet.iterrows():\n",
    "            error = param0 * row['x'] + param1 - row['y']\n",
    "            cost_function_summation += error**2\n",
    "            gradient0 += error\n",
    "            gradient1 += error * row['x']\n",
    "\n",
    "        gradient_result_0 = gradient0 / dataSet.shape[0]\n",
    "        gradient_result_1 = gradient1 / dataSet.shape[0]\n",
    "        cost = cost_function_summation / (2 * dataSet.shape[0])\n",
    "\n",
    " \n",
    "        \n",
    "        param_moment_0 = beta1 * param_moment_0 + (1-beta1) * gradient0 \n",
    "        param_velocity_0 = beta2 * param_velocity_0 + (1 - beta2) * (gradient0 **2)\n",
    "        \n",
    "        param_moment_1 = beta1 * param_moment_1 + (1-beta1) * gradient1\n",
    "        param_velocity_1 = beta2 * param_velocity_1 + (1-beta2) *(gradient1**2)\n",
    "        \n",
    "        param_corrected_momentum_0 = param_moment_0 / (1 - (beta1 ** t))\n",
    "        param_corrected_velocity_0 = param_velocity_0 / (1 - (beta2 ** t))\n",
    "        \n",
    "        param_corrected_momentum_1 = param_moment_1 / (1 - (beta1 ** t))\n",
    "        param_corrected_velocity_1 = param_velocity_1 / (1 - (beta2 ** t))\n",
    "        \n",
    "        e = 1e-8\n",
    "        param0 -= learning_rate * param_corrected_momentum_0 / (np.sqrt(param_corrected_velocity_0) + e)\n",
    "        param1 -= learning_rate * param_corrected_momentum_1 / (np.sqrt(param_corrected_velocity_1) + e)\n",
    "        # Convergence check\n",
    "        if abs(gradient0) < tolerance and abs(gradient1) < tolerance:\n",
    "            break\n",
    "    return param0, param1, cost  # Return parameters even if convergence condition is not met"
   ]
  },
  {
   "cell_type": "code",
   "execution_count": 9,
   "id": "f9dc9f3e9a753e76",
   "metadata": {
    "ExecuteTime": {
     "end_time": "2023-10-12T18:38:38.010950700Z",
     "start_time": "2023-10-12T18:38:36.798148700Z"
    }
   },
   "outputs": [],
   "source": [
    "def gradient_descent_wrapper(test_trials, learning_rate, dataSet, use_adam=True):\n",
    "    result = []\n",
    "    for _ in range(test_trials):\n",
    "        if use_adam:\n",
    "            temp_result = gradient_Descent_core_with_Adam(dataSet, learning_rate)\n",
    "        else:\n",
    "            temp_result = gradient_Descent_core(dataSet, learning_rate)\n",
    "\n",
    "        print(f\"y = {temp_result[0]}x + {temp_result[1]} :::: cost : {temp_result[2]}\")\n",
    "        result.append(temp_result)\n",
    "    min_cost = 10000000000000\n",
    "    a = 0\n",
    "    b = 0\n",
    "    for row in result: \n",
    "        print(row[2])\n",
    "        if row[2] < min_cost: \n",
    "            min_cost = row[2]\n",
    "            a = row[0]\n",
    "            b = row[1]\n",
    "    return a, b, min_cost\n",
    "    "
   ]
  },
  {
   "cell_type": "code",
   "execution_count": 10,
   "id": "ac77581474c2e4e4",
   "metadata": {
    "ExecuteTime": {
     "end_time": "2023-10-12T18:38:38.010950700Z",
     "start_time": "2023-10-12T18:38:36.813168900Z"
    }
   },
   "outputs": [],
   "source": [
    "def plot_linear_function(a, b, data):\n",
    "    # x값의 범위를 정의합니다. 여기서는 -10부터 10까지의 값을 사용했습니다.\n",
    "    x = np.linspace(-10, 10, 400)\n",
    "\n",
    "    # y = ax + b\n",
    "    y = a * x + b\n",
    "\n",
    "    plt.plot(x, y, label=f'y = {a}  x + {b}')\n",
    "    plt.scatter(data['x'], data['y'])\n",
    "    plt.title(f'Graph of y = {a}x + {b}')\n",
    "    plt.xlabel('x')\n",
    "    plt.ylabel('y')\n",
    "    plt.grid(True)\n",
    "    plt.axhline(0, color='black',linewidth=0.5)\n",
    "    plt.axvline(0, color='black',linewidth=0.5)\n",
    "    plt.legend()\n",
    "    plt.show()"
   ]
  },
  {
   "cell_type": "code",
   "execution_count": null,
   "id": "4a8003b84de999be",
   "metadata": {
    "ExecuteTime": {
     "start_time": "2023-10-12T18:40:31.640874800Z"
    }
   },
   "outputs": [],
   "source": [
    "a,b, min_cost = gradient_descent_wrapper(30, 0.01, data)\n",
    "plot_linear_function(a,b, data)"
   ]
  },
  {
   "cell_type": "markdown",
   "id": "77e31d4a8a49978b",
   "metadata": {},
   "source": [
    "### Adam Method를 적용하지 않은 경우\n",
    "y = 93.8160734176294x + -144.1462375035515\n",
    "y = 2x + 9\n",
    "y = -1x + 4\n",
    "y = 67.35224844206732x + -98.831860851213\n",
    "y = 77.36089690634486x + -124.37950556022004\n",
    "y = -5x + 10\n",
    "y = 40.35437302398863x + -67.1963187526279\n",
    "y = 1x + 10\n",
    "y = -9x + 5\n",
    "y = 74.79638430196962x + -116.52543871841344"
   ]
  },
  {
   "cell_type": "markdown",
   "id": "36b158c38fdbbdb8",
   "metadata": {},
   "source": [
    "### Adam Method를 적용한 경우\n",
    "y = -9.129006240896851x + -3.259696161809034 :::: cost : 34.98569579251275\n",
    "y = -0.3804674370549478x + -12.458744140725523 :::: cost : 233.2995372582227\n",
    "y = 0.4611241196136164x + -14.375232926563244 :::: cost : 291.5844277485565\n",
    "y = -3.916566690303903x + 0.2648066295311302 :::: cost : 72.26293746415591\n",
    "y = -2.3864658553131726x + -14.524795679563836 :::: cost : 207.39003231785702\n",
    "y = 4.637528380149569x + -7.350216596342198 :::: cost : 322.21802033531463\n",
    "y = 14.49088880217755x + -0.2183763830781229 :::: cost : 638.0492045818634\n",
    "y = 10.481375705403751x + -4.247752304178898 :::: cost : 512.3416733035982\n",
    "y = 1.229415222819x + -7.5490838840031635 :::: cost : 214.411642625986\n",
    "y = -13.310467656149426x + 14.614815379162996 :::: cost : 315.6987049229676\n",
    "y = -10.33419231409667x + 4.485168677150966 :::: cost : 90.15749166551674\n",
    "y = -10.274356226197606x + 2.0807803256219364 :::: cost : 65.98053173484563\n",
    "y = 11.101266829106445x + 1.688178361882754 :::: cost : 453.53587572589714\n",
    "y = 13.538161304316569x + -0.23168755273510513 :::: cost : 590.6925317990656\n",
    "y = -0.8060813622550778x + -9.638495448379631 :::: cost : 183.17019431305178\n",
    "y = -14.854380166202846x + 0.6392741943516016 :::: cost : 96.53130503035814\n",
    "y = -13.526285173315326x + 8.25414937773863 :::: cost : 186.8773602167765\n",
    "y = -14.351106162481353x + 11.645960828087354 :::: cost : 271.91502522074944\n",
    "y = -10.33419231409667x + 4.485168677150966 :::: cost : 90.15749166551674\n",
    "y = 9.75487448234279x + -1.2953799469420324 :::: cost : 435.23523331769934\n",
    "y = 12.44530047713464x + -3.225639949112874 :::: cost : 587.9385821562923\n",
    "y = 2.562852150769514x + -10.369492694283197 :::: cost : 295.3879115668537\n",
    "y = 0.10910701497533795x + 4.187557485956964 :::: cost : 127.20677666685135\n",
    "y = -3.916566690303903x + 0.2648066295311302 :::: cost : 72.26293746415591\n",
    "y = -11.647859672284843x + -5.434135616030345 :::: cost : 29.10930432501153\n",
    "y = 11.767410945559229x + 0.7256475134935777 :::: cost : 494.26385458590687\n",
    "y = -12.55306417885425x + -0.8670651926431409 :::: cost : 56.70434484379346\n",
    "y = -10.415365461505967x + -5.105482651290515 :::: cost : 29.493494644165587\n",
    "y = 12.486045926635844x + -2.232120534249426 :::: cost : 572.5343125529273\n",
    "y = 14.541170171719992x + 0.7753048747479339 :::: cost : 624.2631785749671\n",
    "\n",
    "y = -11.647859672284843x + -5.434135616030345 :::: cost : 29.10930432501153"
   ]
  },
  {
   "cell_type": "markdown",
   "id": "f311c39dde6c80dc",
   "metadata": {},
   "source": [
    "## Task2. \n",
    "Model : $$ y = ax^2 + bx + c$$\n",
    "Approach : Normal Equation "
   ]
  },
  {
   "cell_type": "code",
   "execution_count": 11,
   "id": "18c177307ae702b7",
   "metadata": {
    "ExecuteTime": {
     "end_time": "2023-10-12T18:07:33.033094600Z",
     "start_time": "2023-10-12T18:07:32.964855400Z"
    }
   },
   "outputs": [
    {
     "data": {
      "text/html": [
       "<div>\n",
       "<style scoped>\n",
       "    .dataframe tbody tr th:only-of-type {\n",
       "        vertical-align: middle;\n",
       "    }\n",
       "\n",
       "    .dataframe tbody tr th {\n",
       "        vertical-align: top;\n",
       "    }\n",
       "\n",
       "    .dataframe thead th {\n",
       "        text-align: right;\n",
       "    }\n",
       "</style>\n",
       "<table border=\"1\" class=\"dataframe\">\n",
       "  <thead>\n",
       "    <tr style=\"text-align: right;\">\n",
       "      <th></th>\n",
       "      <th>x</th>\n",
       "      <th>y</th>\n",
       "    </tr>\n",
       "  </thead>\n",
       "  <tbody>\n",
       "    <tr>\n",
       "      <th>0</th>\n",
       "      <td>-1.572851</td>\n",
       "      <td>2.927733</td>\n",
       "    </tr>\n",
       "    <tr>\n",
       "      <th>1</th>\n",
       "      <td>-2.424197</td>\n",
       "      <td>25.341094</td>\n",
       "    </tr>\n",
       "    <tr>\n",
       "      <th>2</th>\n",
       "      <td>0.402431</td>\n",
       "      <td>-8.935209</td>\n",
       "    </tr>\n",
       "    <tr>\n",
       "      <th>3</th>\n",
       "      <td>-1.648521</td>\n",
       "      <td>4.257155</td>\n",
       "    </tr>\n",
       "    <tr>\n",
       "      <th>4</th>\n",
       "      <td>-1.899214</td>\n",
       "      <td>9.499411</td>\n",
       "    </tr>\n",
       "    <tr>\n",
       "      <th>...</th>\n",
       "      <td>...</td>\n",
       "      <td>...</td>\n",
       "    </tr>\n",
       "    <tr>\n",
       "      <th>995</th>\n",
       "      <td>-0.388337</td>\n",
       "      <td>-7.106198</td>\n",
       "    </tr>\n",
       "    <tr>\n",
       "      <th>996</th>\n",
       "      <td>-1.474044</td>\n",
       "      <td>1.353707</td>\n",
       "    </tr>\n",
       "    <tr>\n",
       "      <th>997</th>\n",
       "      <td>-1.799926</td>\n",
       "      <td>7.262406</td>\n",
       "    </tr>\n",
       "    <tr>\n",
       "      <th>998</th>\n",
       "      <td>-1.639442</td>\n",
       "      <td>4.091766</td>\n",
       "    </tr>\n",
       "    <tr>\n",
       "      <th>999</th>\n",
       "      <td>0.675706</td>\n",
       "      <td>-9.968438</td>\n",
       "    </tr>\n",
       "  </tbody>\n",
       "</table>\n",
       "<p>1000 rows × 2 columns</p>\n",
       "</div>"
      ],
      "text/plain": [
       "            x          y\n",
       "0   -1.572851   2.927733\n",
       "1   -2.424197  25.341094\n",
       "2    0.402431  -8.935209\n",
       "3   -1.648521   4.257155\n",
       "4   -1.899214   9.499411\n",
       "..        ...        ...\n",
       "995 -0.388337  -7.106198\n",
       "996 -1.474044   1.353707\n",
       "997 -1.799926   7.262406\n",
       "998 -1.639442   4.091766\n",
       "999  0.675706  -9.968438\n",
       "\n",
       "[1000 rows x 2 columns]"
      ]
     },
     "execution_count": 11,
     "metadata": {},
     "output_type": "execute_result"
    }
   ],
   "source": [
    "data"
   ]
  },
  {
   "cell_type": "code",
   "execution_count": null,
   "id": "d8b17c53e7e4c5fd",
   "metadata": {
    "ExecuteTime": {
     "end_time": "2023-10-12T18:07:33.033094600Z",
     "start_time": "2023-10-12T18:07:32.980367100Z"
    }
   },
   "outputs": [],
   "source": []
  },
  {
   "cell_type": "code",
   "execution_count": null,
   "id": "0fb38ade",
   "metadata": {},
   "outputs": [],
   "source": []
  }
 ],
 "metadata": {
  "kernelspec": {
   "display_name": "Python 3 (ipykernel)",
   "language": "python",
   "name": "python3"
  },
  "language_info": {
   "codemirror_mode": {
    "name": "ipython",
    "version": 3
   },
   "file_extension": ".py",
   "mimetype": "text/x-python",
   "name": "python",
   "nbconvert_exporter": "python",
   "pygments_lexer": "ipython3",
   "version": "3.9.13"
  }
 },
 "nbformat": 4,
 "nbformat_minor": 5
}
