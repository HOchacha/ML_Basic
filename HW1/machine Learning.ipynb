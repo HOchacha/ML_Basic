{
 "cells": [
  {
   "cell_type": "markdown",
   "id": "a6e0de9498811d44",
   "metadata": {},
   "source": [
    "# Assignment 01 (Due: 12th Oct.)"
   ]
  },
  {
   "cell_type": "code",
   "execution_count": null,
   "id": "15bde0a1cc9aca88",
   "metadata": {},
   "outputs": [],
   "source": [
    "import random\n",
    "import sympy as sp \n",
    "import pandas as pd\n",
    "import matplotlib.pyplot as plt\n",
    "import numpy as np\n",
    "\n",
    "print(sp.__version__)\n",
    "print(pd.__version__)\n",
    "print(np.__version__)\n",
    "\n",
    "#기본 모듈"
   ]
  },
  {
   "cell_type": "markdown",
   "id": "245fa471f33611a4",
   "metadata": {},
   "source": [
    "## Task1. \n",
    "Model : $$ y = ax + b$$\n",
    "Approach : Gradient Descent"
   ]
  },
  {
   "cell_type": "code",
   "execution_count": null,
   "id": "d1f34f22e4776f07",
   "metadata": {},
   "outputs": [],
   "source": [
    "data = pd.read_csv(\"data_hw1.csv\", header=0)\n",
    "data"
   ]
  },
  {
   "cell_type": "markdown",
   "id": "89e6af06811ae848",
   "metadata": {},
   "source": [
    "# Check the Data "
   ]
  },
  {
   "cell_type": "code",
   "execution_count": null,
   "id": "e7b4222715c396b4",
   "metadata": {},
   "outputs": [],
   "source": [
    "plt.scatter(data['x'], data['y'], marker='o')"
   ]
  },
  {
   "cell_type": "markdown",
   "id": "7b7d8b073c90a144",
   "metadata": {},
   "source": [
    "# Model Definition\n",
    "core operation"
   ]
  },
  {
   "cell_type": "markdown",
   "id": "9ffec0f1b8223038",
   "metadata": {},
   "source": []
  },
  {
   "cell_type": "code",
   "execution_count": null,
   "outputs": [],
   "source": [
    "def plot_linear_function(a, b, data):\n",
    "    x = np.linspace(-10, 10, 400)\n",
    "\n",
    "\n",
    "    y = a * x + b\n",
    "    plt.ylim([-20, 80])\n",
    "    plt.plot(x, y, label=f'y = {a}  x + {b}')\n",
    "    plt.scatter(data['x'], data['y'])\n",
    "    plt.title(f'Graph of y = {a}x + {b}')\n",
    "    plt.xlabel('x')\n",
    "    plt.ylabel('y')\n",
    "    plt.grid(True)\n",
    "    plt.axhline(0, color='black',linewidth=0.5)\n",
    "    plt.axvline(0, color='black',linewidth=0.5)\n",
    "    plt.legend()\n",
    "    plt.show()"
   ],
   "metadata": {
    "collapsed": false
   },
   "id": "8727eda2768a9a9"
  },
  {
   "cell_type": "code",
   "execution_count": null,
   "id": "affe41fc78f772c0",
   "metadata": {},
   "outputs": [],
   "source": [
    "def gradient_descent_core(dataSet, learning_rate, max_iters=1000, tolerance=0.02):\n",
    "    param0 = np.random.uniform(-10.0, 10.0)\n",
    "    param1 = np.random.uniform(-10.0, 10.0)\n",
    "\n",
    "    cost_every_epoch = []\n",
    "    t = 0\n",
    "    for _ in range(max_iters): # Iter : m\n",
    "        gradient0 = 0\n",
    "        gradient1 = 0\n",
    "        cost_function_summation = 0\n",
    "        t+=1\n",
    "        for i in range( 1,dataSet.shape[0]-1): # Data : n\n",
    "            error = param0 * dataSet['x'][i] + param1 - dataSet['y'][i]\n",
    "            cost_function_summation += error**2\n",
    "            gradient0 += error* dataSet['x'][i]\n",
    "            gradient1 += error\n",
    "        \n",
    "\n",
    "        gradient_result_0 = gradient0 / dataSet.shape[0]\n",
    "        gradient_result_1 = gradient1 / dataSet.shape[0]\n",
    "        \n",
    "        param0 -= learning_rate * gradient_result_0\n",
    "        param1 -= learning_rate * gradient_result_1\n",
    "        \n",
    "        cost = cost_function_summation / (2 * dataSet.shape[0])\n",
    "        cost_every_epoch.append(cost)\n",
    "\n",
    "\n",
    "        if abs(gradient_result_0) < tolerance and abs(gradient_result_0) < tolerance:\n",
    "            break\n",
    "    return param0, param1, cost , cost_every_epoch"
   ]
  },
  {
   "cell_type": "code",
   "execution_count": null,
   "id": "1aa0362a3139d94f",
   "metadata": {},
   "outputs": [],
   "source": [
    "def gradient_descent_core_with_adam(dataSet, learning_rate, max_iters=1000, tolerance=0.02):\n",
    "    param0 = np.random.uniform(-10.0, 10.0)\n",
    "    param1 = np.random.uniform(-10.0, 10.0)\n",
    "    param_moment_0, param_velocity_0 = 0,0\n",
    "    param_moment_1, param_velocity_1 = 0,0\n",
    "    beta1, beta2 = 0.9, 0.999\n",
    "    cost_every_epoch = []\n",
    "    t = 0\n",
    "    for _ in range(max_iters): \n",
    "        gradient0 = 0 \n",
    "        gradient1 = 0\n",
    "        cost_function_summation = 0\n",
    "        t+=1\n",
    "        for i in range( 1,dataSet.shape[0]-1):\n",
    "            error = param0 * dataSet['x'][i] + param1 - dataSet['y'][i]\n",
    "            cost_function_summation += error**2\n",
    "            gradient0 += error* dataSet['x'][i]\n",
    "            gradient1 += error \n",
    "    \n",
    "        gradient_result_0 = gradient0 / dataSet.shape[0]\n",
    "        gradient_result_1 = gradient1 / dataSet.shape[0]\n",
    "        cost = cost_function_summation / (2 * dataSet.shape[0])\n",
    "        cost_every_epoch.append(cost)\n",
    "        \n",
    "        param_moment_0 = beta1 * param_moment_0 + (1-beta1) * gradient_result_0 \n",
    "        param_velocity_0 = beta2 * param_velocity_0 + (1 - beta2) * (gradient_result_0 **2)\n",
    "        \n",
    "        param_moment_1 = beta1 * param_moment_1 + (1-beta1) * gradient_result_1\n",
    "        param_velocity_1 = beta2 * param_velocity_1 + (1-beta2) *(gradient_result_1**2)\n",
    "        \n",
    "        param_corrected_momentum_0 = param_moment_0 / (1 - (beta1 ** t))\n",
    "        param_corrected_velocity_0 = param_velocity_0 / (1 - (beta2 ** t))\n",
    "        \n",
    "        param_corrected_momentum_1 = param_moment_1 / (1 - (beta1 ** t))\n",
    "        param_corrected_velocity_1 = param_velocity_1 / (1 - (beta2 ** t))\n",
    "\n",
    "        e = 1e-8\n",
    "        param0 -= learning_rate * param_corrected_momentum_0 / (np.sqrt(param_corrected_velocity_0) + e)\n",
    "        param1 -= learning_rate * param_corrected_momentum_1 / (np.sqrt(param_corrected_velocity_1) + e)\n",
    "\n",
    "        if abs(gradient_result_1) < tolerance and abs(gradient_result_0) < tolerance:\n",
    "            break\n",
    "    return param0, param1, cost , cost_every_epoch"
   ]
  },
  {
   "cell_type": "code",
   "execution_count": null,
   "id": "f9dc9f3e9a753e76",
   "metadata": {},
   "outputs": [],
   "source": [
    "def gradient_descent_wrapper(test_trials, learning_rate, dataSet, use_adam=True):\n",
    "    result = []\n",
    "    for _ in range(test_trials):\n",
    "        if use_adam:\n",
    "            temp_result = gradient_descent_core_with_adam(dataSet, learning_rate)\n",
    "        else:\n",
    "            temp_result = gradient_descent_core(dataSet, learning_rate)\n",
    "        result.append(temp_result)\n",
    "    min_cost = 10000000000000\n",
    "    a = 0\n",
    "    b = 0\n",
    "    for row in result: \n",
    "        if row[2] < min_cost: \n",
    "            min_cost = row[2]\n",
    "            a = row[0]\n",
    "            b = row[1]\n",
    "        print(f\"y = {row[0]:.6f}x + {row[1]:.6f} :::: cost : {row[2]:.6f}\")\n",
    "    return a, b, min_cost\n",
    "    "
   ]
  },
  {
   "cell_type": "code",
   "execution_count": null,
   "id": "4a8003b84de999be",
   "metadata": {},
   "outputs": [],
   "source": [
    "a,b, min_cost0 = gradient_descent_wrapper(1, 0.1, data, use_adam=False)\n",
    "plot_linear_function(a,b, data)"
   ]
  },
  {
   "cell_type": "code",
   "execution_count": null,
   "outputs": [],
   "source": [
    "a,b, min_cost1 = gradient_descent_wrapper(1, 1, data, use_adam=True)\n",
    "plot_linear_function(a,b, data)\n"
   ],
   "metadata": {
    "collapsed": false
   },
   "id": "413c33b7aaedb939"
  },
  {
   "cell_type": "code",
   "execution_count": 202,
   "outputs": [
    {
     "data": {
      "text/plain": "<Figure size 640x480 with 1 Axes>",
      "image/png": "[encoded data removed]"
     },
     "metadata": {},
     "output_type": "display_data"
    }
   ],
   "source": [
    "a,b, cost, cost_every_epoch = gradient_descent_with_adam_minibatch(data, 1)\n",
    "plot_linear_function(a,b, data)"
   ],
   "metadata": {
    "collapsed": false,
    "ExecuteTime": {
     "end_time": "2023-10-14T16:14:15.550071200Z",
     "start_time": "2023-10-14T16:14:08.518201800Z"
    }
   },
   "id": "875d45ba767631b3"
  },
  {
   "cell_type": "markdown",
   "source": [
    "## Task2. \n",
    "Model : $$ y = ax^2 + bx + c$$\n",
    "Approach : Normal Equation "
   ],
   "metadata": {
    "collapsed": false
   },
   "id": "f311c39dde6c80dc"
  },
  {
   "cell_type": "code",
   "execution_count": 193,
   "outputs": [
    {
     "data": {
      "text/plain": "            x          y\n0   -1.572851   2.927733\n1   -2.424197  25.341094\n2    0.402431  -8.935209\n3   -1.648521   4.257155\n4   -1.899214   9.499411\n..        ...        ...\n995 -0.388337  -7.106198\n996 -1.474044   1.353707\n997 -1.799926   7.262406\n998 -1.639442   4.091766\n999  0.675706  -9.968438\n\n[1000 rows x 2 columns]",
      "text/html": "<div>\n<style scoped>\n    .dataframe tbody tr th:only-of-type {\n        vertical-align: middle;\n    }\n\n    .dataframe tbody tr th {\n        vertical-align: top;\n    }\n\n    .dataframe thead th {\n        text-align: right;\n    }\n</style>\n<table border=\"1\" class=\"dataframe\">\n  <thead>\n    <tr style=\"text-align: right;\">\n      <th></th>\n      <th>x</th>\n      <th>y</th>\n    </tr>\n  </thead>\n  <tbody>\n    <tr>\n      <th>0</th>\n      <td>-1.572851</td>\n      <td>2.927733</td>\n    </tr>\n    <tr>\n      <th>1</th>\n      <td>-2.424197</td>\n      <td>25.341094</td>\n    </tr>\n    <tr>\n      <th>2</th>\n      <td>0.402431</td>\n      <td>-8.935209</td>\n    </tr>\n    <tr>\n      <th>3</th>\n      <td>-1.648521</td>\n      <td>4.257155</td>\n    </tr>\n    <tr>\n      <th>4</th>\n      <td>-1.899214</td>\n      <td>9.499411</td>\n    </tr>\n    <tr>\n      <th>...</th>\n      <td>...</td>\n      <td>...</td>\n    </tr>\n    <tr>\n      <th>995</th>\n      <td>-0.388337</td>\n      <td>-7.106198</td>\n    </tr>\n    <tr>\n      <th>996</th>\n      <td>-1.474044</td>\n      <td>1.353707</td>\n    </tr>\n    <tr>\n      <th>997</th>\n      <td>-1.799926</td>\n      <td>7.262406</td>\n    </tr>\n    <tr>\n      <th>998</th>\n      <td>-1.639442</td>\n      <td>4.091766</td>\n    </tr>\n    <tr>\n      <th>999</th>\n      <td>0.675706</td>\n      <td>-9.968438</td>\n    </tr>\n  </tbody>\n</table>\n<p>1000 rows × 2 columns</p>\n</div>"
     },
     "execution_count": 193,
     "metadata": {},
     "output_type": "execute_result"
    }
   ],
   "source": [
    "data"
   ],
   "metadata": {
    "collapsed": false,
    "ExecuteTime": {
     "end_time": "2023-10-14T14:54:16.810785400Z",
     "start_time": "2023-10-14T14:54:16.780366300Z"
    }
   },
   "id": "18c177307ae702b7"
  },
  {
   "cell_type": "code",
   "execution_count": 194,
   "id": "d8b17c53e7e4c5fd",
   "metadata": {
    "ExecuteTime": {
     "end_time": "2023-10-14T14:54:17.622069700Z",
     "start_time": "2023-10-14T14:54:17.603232800Z"
    }
   },
   "outputs": [
    {
     "data": {
      "text/plain": "           x2         x    1\n0    2.473861 -1.572851  1.0\n1    5.876730 -2.424197  1.0\n2    0.161950  0.402431  1.0\n3    2.717622 -1.648521  1.0\n4    3.607014 -1.899214  1.0\n..        ...       ...  ...\n995  0.150806 -0.388337  1.0\n996  2.172805 -1.474044  1.0\n997  3.239732 -1.799926  1.0\n998  2.687769 -1.639442  1.0\n999  0.456579  0.675706  1.0\n\n[1000 rows x 3 columns]",
      "text/html": "<div>\n<style scoped>\n    .dataframe tbody tr th:only-of-type {\n        vertical-align: middle;\n    }\n\n    .dataframe tbody tr th {\n        vertical-align: top;\n    }\n\n    .dataframe thead th {\n        text-align: right;\n    }\n</style>\n<table border=\"1\" class=\"dataframe\">\n  <thead>\n    <tr style=\"text-align: right;\">\n      <th></th>\n      <th>x2</th>\n      <th>x</th>\n      <th>1</th>\n    </tr>\n  </thead>\n  <tbody>\n    <tr>\n      <th>0</th>\n      <td>2.473861</td>\n      <td>-1.572851</td>\n      <td>1.0</td>\n    </tr>\n    <tr>\n      <th>1</th>\n      <td>5.876730</td>\n      <td>-2.424197</td>\n      <td>1.0</td>\n    </tr>\n    <tr>\n      <th>2</th>\n      <td>0.161950</td>\n      <td>0.402431</td>\n      <td>1.0</td>\n    </tr>\n    <tr>\n      <th>3</th>\n      <td>2.717622</td>\n      <td>-1.648521</td>\n      <td>1.0</td>\n    </tr>\n    <tr>\n      <th>4</th>\n      <td>3.607014</td>\n      <td>-1.899214</td>\n      <td>1.0</td>\n    </tr>\n    <tr>\n      <th>...</th>\n      <td>...</td>\n      <td>...</td>\n      <td>...</td>\n    </tr>\n    <tr>\n      <th>995</th>\n      <td>0.150806</td>\n      <td>-0.388337</td>\n      <td>1.0</td>\n    </tr>\n    <tr>\n      <th>996</th>\n      <td>2.172805</td>\n      <td>-1.474044</td>\n      <td>1.0</td>\n    </tr>\n    <tr>\n      <th>997</th>\n      <td>3.239732</td>\n      <td>-1.799926</td>\n      <td>1.0</td>\n    </tr>\n    <tr>\n      <th>998</th>\n      <td>2.687769</td>\n      <td>-1.639442</td>\n      <td>1.0</td>\n    </tr>\n    <tr>\n      <th>999</th>\n      <td>0.456579</td>\n      <td>0.675706</td>\n      <td>1.0</td>\n    </tr>\n  </tbody>\n</table>\n<p>1000 rows × 3 columns</p>\n</div>"
     },
     "execution_count": 194,
     "metadata": {},
     "output_type": "execute_result"
    }
   ],
   "source": [
    "Y = data['y']\n",
    "tempX = data['x']\n",
    "quadX = tempX ** 2\n",
    "one = pd.Series(np.ones(1000))\n",
    "X = pd.DataFrame((quadX, tempX, one)).transpose(copy=True)\n",
    "X.columns = ['x2','x','1']\n",
    "X"
   ]
  },
  {
   "cell_type": "code",
   "execution_count": 195,
   "id": "0fb38ade",
   "metadata": {
    "ExecuteTime": {
     "end_time": "2023-10-14T14:54:18.900681600Z",
     "start_time": "2023-10-14T14:54:18.863313800Z"
    }
   },
   "outputs": [
    {
     "data": {
      "text/plain": "              x2            x            1\nx2  11061.548519 -4593.622523  2195.472936\nx   -4593.622523  2195.472936  -940.939854\n1    2195.472936  -940.939854  1000.000000",
      "text/html": "<div>\n<style scoped>\n    .dataframe tbody tr th:only-of-type {\n        vertical-align: middle;\n    }\n\n    .dataframe tbody tr th {\n        vertical-align: top;\n    }\n\n    .dataframe thead th {\n        text-align: right;\n    }\n</style>\n<table border=\"1\" class=\"dataframe\">\n  <thead>\n    <tr style=\"text-align: right;\">\n      <th></th>\n      <th>x2</th>\n      <th>x</th>\n      <th>1</th>\n    </tr>\n  </thead>\n  <tbody>\n    <tr>\n      <th>x2</th>\n      <td>11061.548519</td>\n      <td>-4593.622523</td>\n      <td>2195.472936</td>\n    </tr>\n    <tr>\n      <th>x</th>\n      <td>-4593.622523</td>\n      <td>2195.472936</td>\n      <td>-940.939854</td>\n    </tr>\n    <tr>\n      <th>1</th>\n      <td>2195.472936</td>\n      <td>-940.939854</td>\n      <td>1000.000000</td>\n    </tr>\n  </tbody>\n</table>\n</div>"
     },
     "execution_count": 195,
     "metadata": {},
     "output_type": "execute_result"
    }
   ],
   "source": [
    "transX = X.transpose(copy=True)\n",
    "quad_form = transX.dot(X)\n",
    "quad_form"
   ]
  },
  {
   "cell_type": "code",
   "execution_count": 196,
   "outputs": [
    {
     "data": {
      "text/plain": "array([[ 0.00073309,  0.00141447, -0.00027854],\n       [ 0.00141447,  0.00349249,  0.00018078],\n       [-0.00027854,  0.00018078,  0.00178163]])"
     },
     "execution_count": 196,
     "metadata": {},
     "output_type": "execute_result"
    }
   ],
   "source": [
    "inversed_quad = np.linalg.inv(quad_form.values)\n",
    "inversed_quad"
   ],
   "metadata": {
    "collapsed": false,
    "ExecuteTime": {
     "end_time": "2023-10-14T14:54:19.441249300Z",
     "start_time": "2023-10-14T14:54:19.425986600Z"
    }
   },
   "id": "582e3453ad6886ad"
  },
  {
   "cell_type": "code",
   "execution_count": 197,
   "outputs": [
    {
     "data": {
      "text/plain": "array([  5.82074893,  -1.05708197, -10.70482255])"
     },
     "execution_count": 197,
     "metadata": {},
     "output_type": "execute_result"
    }
   ],
   "source": [
    "rrOperand = transX.dot(Y)\n",
    "theta = inversed_quad.dot(rrOperand)\n",
    "theta"
   ],
   "metadata": {
    "collapsed": false,
    "ExecuteTime": {
     "end_time": "2023-10-14T14:54:20.007127600Z",
     "start_time": "2023-10-14T14:54:19.989141700Z"
    }
   },
   "id": "a540eb695f9671b"
  },
  {
   "cell_type": "code",
   "execution_count": 198,
   "outputs": [
    {
     "name": "stdout",
     "output_type": "stream",
     "text": [
      "5.495148548341097\n"
     ]
    }
   ],
   "source": [
    "cost = 0\n",
    "for i in range(0, data.shape[0]-1):\n",
    "    cost += (theta[0]*X['x2'][i]+theta[1]*X['x'][i]+theta[2]*X['1'][i] - Y[i])**2\n",
    "print(cost/data.shape[0])"
   ],
   "metadata": {
    "collapsed": false,
    "ExecuteTime": {
     "end_time": "2023-10-14T14:54:20.580369Z",
     "start_time": "2023-10-14T14:54:20.506387500Z"
    }
   },
   "id": "853c1f2efb6febae"
  },
  {
   "cell_type": "code",
   "execution_count": 199,
   "outputs": [
    {
     "data": {
      "text/plain": "<Figure size 640x480 with 1 Axes>",
      "image/png": "[encoded data removed]"
     },
     "metadata": {},
     "output_type": "display_data"
    }
   ],
   "source": [
    "x = np.linspace(-10, 10, 400)\n",
    "a = theta[0] \n",
    "b = theta[1] \n",
    "c = theta[2] \n",
    "y = a*x**2 + b*x + c\n",
    "\n",
    "\n",
    "plt.plot(x, y, label=f'y = {a}x^2 + {b}x + {c}')\n",
    "plt.scatter(data['x'], data['y'])\n",
    "plt.ylim([-50, 100])\n",
    "plt.xlabel('x')\n",
    "plt.ylabel('y')\n",
    "plt.grid(True)\n",
    "plt.axhline(0, color='black', linewidth=0.5)\n",
    "plt.axvline(0, color='black', linewidth=0.5)\n",
    "plt.legend()\n",
    "plt.show()"
   ],
   "metadata": {
    "collapsed": false,
    "ExecuteTime": {
     "end_time": "2023-10-14T14:54:22.050650400Z",
     "start_time": "2023-10-14T14:54:21.908654200Z"
    }
   },
   "id": "1c370554aa204c99"
  },
  {
   "cell_type": "code",
   "execution_count": null,
   "outputs": [],
   "source": [],
   "metadata": {
    "collapsed": false
   },
   "id": "10b21818d5c6a692"
  }
 ],
 "metadata": {
  "kernelspec": {
   "display_name": "Python 3 (ipykernel)",
   "language": "python",
   "name": "python3"
  },
  "language_info": {
   "codemirror_mode": {
    "name": "ipython",
    "version": 3
   },
   "file_extension": ".py",
   "mimetype": "text/x-python",
   "name": "python",
   "nbconvert_exporter": "python",
   "pygments_lexer": "ipython3",
   "version": "3.9.13"
  }
 },
 "nbformat": 4,
 "nbformat_minor": 5
}
